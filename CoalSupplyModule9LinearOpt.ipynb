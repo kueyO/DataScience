{
  "nbformat": 4,
  "nbformat_minor": 0,
  "metadata": {
    "colab": {
      "provenance": [],
      "authorship_tag": "ABX9TyNm2D1by8R41pnAbnGtKM9L",
      "include_colab_link": true
    },
    "kernelspec": {
      "name": "python3",
      "display_name": "Python 3"
    },
    "language_info": {
      "name": "python"
    }
  },
  "cells": [
    {
      "cell_type": "markdown",
      "metadata": {
        "id": "view-in-github",
        "colab_type": "text"
      },
      "source": [
        "<a href=\"https://colab.research.google.com/github/kueyO/DataScience/blob/main/CoalSupplyModule9LinearOpt.ipynb\" target=\"_parent\"><img src=\"https://colab.research.google.com/assets/colab-badge.svg\" alt=\"Open In Colab\"/></a>"
      ]
    },
    {
      "cell_type": "code",
      "execution_count": 7,
      "metadata": {
        "colab": {
          "base_uri": "https://localhost:8080/"
        },
        "id": "ghIzZPEn7YdD",
        "outputId": "6430652f-8c85-48ad-c86a-62566d867bf9"
      },
      "outputs": [
        {
          "output_type": "stream",
          "name": "stdout",
          "text": [
            "Requirement already satisfied: scipy in /usr/local/lib/python3.10/dist-packages (1.13.1)\n",
            "Requirement already satisfied: pandas in /usr/local/lib/python3.10/dist-packages (2.2.2)\n",
            "Requirement already satisfied: numpy<2.3,>=1.22.4 in /usr/local/lib/python3.10/dist-packages (from scipy) (1.26.4)\n",
            "Requirement already satisfied: python-dateutil>=2.8.2 in /usr/local/lib/python3.10/dist-packages (from pandas) (2.8.2)\n",
            "Requirement already satisfied: pytz>=2020.1 in /usr/local/lib/python3.10/dist-packages (from pandas) (2024.2)\n",
            "Requirement already satisfied: tzdata>=2022.7 in /usr/local/lib/python3.10/dist-packages (from pandas) (2024.2)\n",
            "Requirement already satisfied: six>=1.5 in /usr/local/lib/python3.10/dist-packages (from python-dateutil>=2.8.2->pandas) (1.16.0)\n",
            "         Supplier  Quantity (mtons)  Cost ($/ton)  Total Cost ($)\n",
            "0      Supplier 1              12.5     49.500000          618.75\n",
            "1      Supplier 2             600.0     50.000000        30000.00\n",
            "2      Supplier 3              72.0     61.000000         4392.00\n",
            "3      Supplier 4               0.0     63.500000            0.00\n",
            "4      Supplier 5             120.0     66.500000         7980.00\n",
            "5      Supplier 6               0.0     71.000000            0.00\n",
            "6      Supplier 7             420.5     72.500000        30486.25\n",
            "7      Supplier 8               0.0     80.000000            0.00\n",
            "Total       Total            1225.0     59.981224        73477.00\n"
          ]
        },
        {
          "output_type": "execute_result",
          "data": {
            "text/plain": [
              "(73477.0, 59.98122448979592)"
            ]
          },
          "metadata": {},
          "execution_count": 7
        }
      ],
      "source": [
        "!pip install scipy pandas\n",
        "from scipy.optimize import linprog\n",
        "import pandas as pd\n",
        "\n",
        "# Data from the problem\n",
        "costs = [49.50, 50.00, 61.00, 63.50, 66.50, 71.00, 72.50, 80.00]  # $/ton\n",
        "capacities = [300, 600, 510, 655, 575, 680, 450, 490]  # mtons\n",
        "volatilities = [15, 16, 18, 20, 21, 22, 23, 25]  # %\n",
        "union_flags = [1, 1, 0, 1, 0, 1, 0, 0]  # 1 = Union mine\n",
        "rail_flags = [1, 0, 1, 0, 0, 0, 1, 1]  # 1 = Rail delivery\n",
        "truck_flags = [0, 1, 0, 1, 1, 1, 0, 0]  # 1 = Truck delivery\n",
        "\n",
        "total_demand = 1225  # mtons\n",
        "volatility_req = 19  # %\n",
        "union_minimum = 0.5 * total_demand  # mtons\n",
        "rail_capacity = 650  # mtons\n",
        "truck_capacity = 720  # mtons\n",
        "\n",
        "# Linear programming setup\n",
        "c = costs  # Minimize cost\n",
        "\n",
        "# Coefficients for constraints\n",
        "A = [\n",
        "    [-v for v in volatilities],  # Average volatility constraint\n",
        "    [u for u in union_flags],    # Union coal constraint\n",
        "    [r for r in rail_flags],     # Rail capacity constraint\n",
        "    [t for t in truck_flags],    # Truck capacity constraint\n",
        "    [1] * len(costs)             # Total quantity constraint\n",
        "]\n",
        "b = [\n",
        "    -volatility_req * total_demand,  # RHS for volatility\n",
        "    union_minimum,                  # Minimum union requirement\n",
        "    rail_capacity,                  # Rail capacity\n",
        "    truck_capacity,                 # Truck capacity\n",
        "    total_demand                    # Total demand\n",
        "]\n",
        "\n",
        "# Upper bounds for each supplier (capacity constraints)\n",
        "x_bounds = [(0, cap) for cap in capacities]\n",
        "\n",
        "# Solve the linear optimization problem\n",
        "result = linprog(c, A_eq=[A[-1]], b_eq=[b[-1]], A_ub=A[:-1], b_ub=b[:-1], bounds=x_bounds, method='highs')\n",
        "\n",
        "# Extract results\n",
        "supplier_quantities = result.x\n",
        "total_cost = sum(supplier_quantities[i] * costs[i] for i in range(len(supplier_quantities)))\n",
        "average_cost = total_cost / total_demand\n",
        "\n",
        "# Prepare data for display\n",
        "output_data = pd.DataFrame({\n",
        "    'Supplier': [f'Supplier {i+1}' for i in range(len(supplier_quantities))],\n",
        "    'Quantity (mtons)': supplier_quantities,\n",
        "    'Cost ($/ton)': costs,\n",
        "    'Total Cost ($)': [q * costs[i] for i, q in enumerate(supplier_quantities)]\n",
        "})\n",
        "output_data.loc['Total'] = output_data[['Quantity (mtons)', 'Total Cost ($)']].sum()\n",
        "output_data.loc['Total', 'Supplier'] = 'Total'\n",
        "output_data.loc['Total', 'Cost ($/ton)'] = average_cost\n",
        "\n",
        "#import ace_tools as tools; tools.display_dataframe_to_user(name=\"Coal Procurement Optimization Results\", dataframe=output_data)\n",
        "print (output_data)\n",
        "total_cost, average_cost\n"
      ]
    }
  ]
}