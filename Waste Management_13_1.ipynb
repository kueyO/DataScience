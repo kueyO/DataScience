{
  "cells": [
    {
      "cell_type": "markdown",
      "metadata": {
        "id": "view-in-github",
        "colab_type": "text"
      },
      "source": [
        "<a href=\"https://colab.research.google.com/github/kueyO/DataScience/blob/main/Waste%20Management_13_1.ipynb\" target=\"_parent\"><img src=\"https://colab.research.google.com/assets/colab-badge.svg\" alt=\"Open In Colab\"/></a>"
      ]
    },
    {
      "cell_type": "markdown",
      "metadata": {
        "id": "q9nMTUi44-VR"
      },
      "source": [
        "  \n",
        "## Problem Description\n",
        "\n",
        "There are six end landfills, each with a known demand for a waste material.  Landfill demand can be satisfied from a set of four transfer station depots, or directly from a set of two waste generating centers.  Each transfer depot can support a maximum volume of waste moving through it, and each waste generating center can generate a maximum amount of waste.  There are known costs associated with transporting the waste, from a center to a depot, from a depot to a landfill, or from a center directly to a landfill.\n",
        "\n",
        "The waste network has two waste generating centers, in NewYork and NewJersey, which generate the waste.  Each has a maximum waste generating volume:\n",
        "\n",
        "| Center | Waste (tons) |\n",
        "| --- | --- |\n",
        "| NewYork | 300,000 |\n",
        "| NewJersey |  400,000 |\n",
        "\n",
        "The waste can be shipped from a center to a set of four depots. Each depot has a maximum throughput.\n",
        "\n",
        "| Depot | Throughput (tons) |\n",
        "| --- | --- |\n",
        "| Bronx | 140,000 |\n",
        "| Brooklyn | 100,000 |\n",
        "| Queens | 200,000 |\n",
        "| StatenIsland | 80,000 |\n",
        "\n",
        "Our network has six landfills, each with a given maxiumum demand.\n",
        "\n",
        "| Landfill | Demand (tons) |\n",
        "| --- | --- |\n",
        "| C1 | 100,000 |\n",
        "| C2 | 20,000 |\n",
        "| C3 | 80,000 |\n",
        "| C4 | 70,000 |\n",
        "| C5 | 120,000 |\n",
        "| C6 | 40,000 |\n",
        "\n",
        "Transporation costs are given in the following table (in dollars per ton).  Columns are source cities and rows are destination cities.  \n",
        "\n",
        "| To | NewYork | NewJersey | Bronx | Brooklyn | Queens | StatenIsland |\n",
        "| --- | --- | --- | --- | --- | --- | --- |\n",
        "| Depots |\n",
        "| Bronx  | 0.7 |   - |\n",
        "| Brooklyn | 0.7 | 0.5 |\n",
        "| Queens     | 1.2 | 0.7 |\n",
        "| StatenIsland     | 0.4 | 0.4 |\n",
        "| Landfills |\n",
        "| C1 | 1.2 | 2.2 |   - | 1.2 |   - |   - |\n",
        "| C2 |   - |   - | 1.7 | 0.7 | 1.7 |   - |\n",
        "| C3 | 1.7 |   - | 0.7 | 0.75 | 2.2 | 0.4 |\n",
        "| C4 | 2.2 |   - | 1.7 | 1.2|   - | 1.7 |\n",
        "| C5 |   - |   - |   - | 0.7 | 0.7 | 0.7 |\n",
        "| C6 | 1.2 |   - | 1.2 |   - | 1.7 | 1.7 |\n",
        "\n",
        "Question: How to satisfy the demands of the end Landfills while minimizing shipping costs.\n",
        "\n",
        "---\n",
        "## Model Formulation\n",
        "\n",
        "### Sets and Indices\n",
        "\n",
        "$f \\in \\text{Centers}=\\{\\text{NewYork}, \\text{NewJersey}\\}$\n",
        "\n",
        "$d \\in \\text{Depots}=\\{\\text{Bronx}, \\text{Brooklyn}, \\text{Queens}, \\text{StatenIsland}\\}$\n",
        "\n",
        "$c \\in \\text{Landfills}=\\{\\text{C1}, \\text{C2}, \\text{C3}, \\text{C4}, \\text{C5}, \\text{C6}\\}$\n",
        "\n",
        "$\\text{Locations} = \\text{Centers} \\cup \\text{Depots} \\cup \\text{Landfills}$\n",
        "\n",
        "### Parameters\n",
        "\n",
        "$\\text{cost}_{s,t} \\in \\mathbb{R}^+$: Cost of shipping one ton from source $s$ to destination $t$.\n",
        "\n",
        "$\\text{supply}_f \\in \\mathbb{R}^+$: Maximum possible supply from center $f$ (in tons).\n",
        "\n",
        "$\\text{through}_d \\in \\mathbb{R}^+$: Maximum possible flow through depot $d$ (in tons).\n",
        "\n",
        "$\\text{demand}_c \\in \\mathbb{R}^+$: Demand for waste at landfill $c$ (in tons).\n",
        "\n",
        "### Decision Variables\n",
        "\n",
        "$\\text{flow}_{s,t} \\in \\mathbb{N}^+$: Quantity of waste (in tons) that is shipped from source $s$ to destionation $t$.\n",
        "\n",
        "\n",
        "### Objective Function\n",
        "\n",
        "- **Cost**: Minimize total shipping costs.\n",
        "\n",
        "\\begin{equation}\n",
        "\\text{Minimize} \\quad Z = \\sum_{(s,t) \\in \\text{locations} \\times \\text{locations}}{\\text{cost}_{s,t}*\\text{flow}_{s,t}}\n",
        "\\end{equation}\n",
        "\n",
        "### Constraints\n",
        "\n",
        "- **Center output**: Flow of goods from a factory must respect maximum capacity.\n",
        "\n",
        "\\begin{equation}\n",
        "\\sum_{t \\in \\text{locations}}{\\text{flow}_{f,t}} \\leq \\text{supply}_{f} \\quad \\forall f \\in \\text{Centers}\n",
        "\\end{equation}\n",
        "\n",
        "- **Landfill demand**: Flow of goods must meet customer demand.\n",
        "\n",
        "\\begin{equation}\n",
        "\\sum_{s \\in \\text{locations}}{\\text{flow}_{s,c}} = \\text{demand}_{c} \\quad \\forall c \\in \\text{Landfills}\n",
        "\\end{equation}\n",
        "\n",
        "- **Depot flow**: Flow into a depot equals flow out of the depot.\n",
        "\n",
        "\\begin{equation}\n",
        "\\sum_{s \\in \\text{locations}}{\\text{flow}_{s,d}} =\n",
        "\\sum_{t \\in \\text{locations}}{\\text{flow}_{d,t}}\n",
        "\\quad \\forall d \\in \\text{Depots}\n",
        "\\end{equation}\n",
        "\n",
        "- **Depot capacity**: Flow into a depot must respect depot capacity.\n",
        "\n",
        "\\begin{equation}\n",
        "\\sum_{s \\in \\text{locations}}{\\text{flow}_{s,d}} \\leq \\text{through}_{d}\n",
        "\\quad \\forall d \\in \\text{Depots}\n",
        "\\end{equation}\n",
        "\n",
        "---\n",
        "## Python Implementation\n",
        "\n",
        "We import the Gurobi Python Module and other Python libraries."
      ]
    },
    {
      "cell_type": "code",
      "execution_count": 1,
      "metadata": {
        "id": "0xEpMNeG4-Vc",
        "outputId": "d92d8326-a2cc-48e0-c8b5-5a3a4acdf421",
        "colab": {
          "base_uri": "https://localhost:8080/"
        }
      },
      "outputs": [
        {
          "output_type": "stream",
          "name": "stdout",
          "text": [
            "Collecting gurobipy\n",
            "  Downloading gurobipy-12.0.1-cp311-cp311-manylinux2014_x86_64.manylinux_2_17_x86_64.whl.metadata (16 kB)\n",
            "Downloading gurobipy-12.0.1-cp311-cp311-manylinux2014_x86_64.manylinux_2_17_x86_64.whl (14.4 MB)\n",
            "\u001b[2K   \u001b[90m━━━━━━━━━━━━━━━━━━━━━━━━━━━━━━━━━━━━━━━━\u001b[0m \u001b[32m14.4/14.4 MB\u001b[0m \u001b[31m45.5 MB/s\u001b[0m eta \u001b[36m0:00:00\u001b[0m\n",
            "\u001b[?25hInstalling collected packages: gurobipy\n",
            "Successfully installed gurobipy-12.0.1\n"
          ]
        }
      ],
      "source": [
        "%pip install gurobipy"
      ]
    },
    {
      "cell_type": "code",
      "execution_count": 2,
      "metadata": {
        "id": "738F7JqM4-Vf"
      },
      "outputs": [],
      "source": [
        "import pandas as pd\n",
        "\n",
        "import gurobipy as gp\n",
        "from gurobipy import GRB\n",
        "\n",
        "# tested with Python 3.7.0 & Gurobi 9.0"
      ]
    },
    {
      "cell_type": "markdown",
      "metadata": {
        "id": "F-EYxwS04-Vg"
      },
      "source": [
        "## Input Data\n",
        "We define all the input data for the model."
      ]
    },
    {
      "cell_type": "code",
      "execution_count": 29,
      "metadata": {
        "id": "SzWBwmR44-Vg"
      },
      "outputs": [],
      "source": [
        "# Create dictionaries to capture center supply limits, depot throughput limits, and landfill demand.\n",
        "# Create dictionaries to capture center supply limits (700,000), depot throughput limits (520,000), and landfill demand (410,000+80,000).\n",
        "# Create dictionaries to capture center supply limits (700,000), depot throughput limits (520,000), and landfill demand (410,000+80,000+210000).\n",
        "\n",
        "supply = dict({'NewYork': 300000,\n",
        "               'NewJersey': 400000})\n",
        "\n",
        "through = dict({'Bronx': 140000,\n",
        "                'Brooklyn': 100000,\n",
        "                'Queens': 200000,\n",
        "                'StatenIsland': 80000})\n",
        "\n",
        "demand = dict({'C1': 100000,\n",
        "               'C2': 20000,\n",
        "               'C3': 80000,\n",
        "               'C4': 70000,\n",
        "               'C5': 120000,\n",
        "               'C6': 40000,\n",
        "               'C7': 80000,\n",
        "               'C8': 290000})\n",
        "\n",
        "\n",
        "# Create a dictionary to capture shipping costs.\n",
        "\n",
        "arcs, cost = gp.multidict({\n",
        "    ('NewYork', 'Bronx'): 0.7,\n",
        "    ('NewYork', 'Brooklyn'): 0.7,\n",
        "    ('NewYork', 'Queens'): 1.2,\n",
        "    ('NewYork', 'StatenIsland'): 0.4,\n",
        "    ('NewYork', 'C1'): 1.2,\n",
        "    ('NewYork', 'C3'): 1.7,\n",
        "    ('NewYork', 'C4'): 2.2,\n",
        "    ('NewYork', 'C6'): 1.2,\n",
        "    ('NewYork', 'C7'): 1.2,  #addition for C7\n",
        "    ('NewYork', 'C8'): 1.0,  #addition for C8\n",
        "    ('NewJersey', 'Brooklyn'): 0.5,\n",
        "    ('NewJersey', 'Queens'): 0.7,\n",
        "    ('NewJersey', 'StatenIsland'): 0.4,\n",
        "    ('NewJersey', 'C1'): 2.2,\n",
        "    ('NewJersey', 'C7'): 2.2,  #addition for C7\n",
        "    ('NewJersey', 'C8'): 2.1,  #addition for C8\n",
        "    ('Bronx', 'C2'): 1.7,\n",
        "    ('Bronx', 'C3'): 0.7,\n",
        "    ('Bronx', 'C4'): 1.7,\n",
        "    ('Bronx', 'C6'): 1.2,\n",
        "    ('Bronx', 'C7'): 1.2,   #addition for C7\n",
        "    ('Bronx', 'C8'): 1.0,   #addition for C8\n",
        "    ('Brooklyn', 'C1'): 1.2,\n",
        "    ('Brooklyn', 'C2'): 0.7,\n",
        "    ('Brooklyn', 'C3'): 0.7,\n",
        "    ('Brooklyn', 'C4'): 1.2,\n",
        "    ('Brooklyn', 'C5'): 0.7,\n",
        "    ('Brooklyn', 'C7'): 0.7, #addition for C7\n",
        "    ('Brooklyn', 'C8'): 0.7, #addition for C8\n",
        "    ('Queens', 'C2'): 1.7,\n",
        "    ('Queens', 'C3'): 2.2,\n",
        "    ('Queens', 'C5'): 0.7,\n",
        "    ('Queens', 'C6'): 1.7,\n",
        "    ('Queens', 'C7'): 1.7,  #addition for C7\n",
        "    ('Queens', 'C8'): 1.6,  #addition for C8\n",
        "    ('StatenIsland', 'C3'): 0.4,\n",
        "    ('StatenIsland', 'C4'): 1.7,\n",
        "    ('StatenIsland', 'C5'): 0.7,\n",
        "    ('StatenIsland', 'C6'): 1.7,\n",
        "    ('StatenIsland', 'C7'): 1.7, #addition for C7\n",
        "    ('StatenIsland', 'C7'): 1.6 #addition for C8\n",
        "\n",
        "})"
      ]
    },
    {
      "cell_type": "markdown",
      "metadata": {
        "id": "vPVjXtEj4-Vh"
      },
      "source": [
        "## Model Deployment\n",
        "\n",
        "Create a model and  variables. The variables simply capture the amount of waste that flows along each allowed path between a source and destination.  Objective coefficients are provided here (in $\\text{cost}$) , so we don't need to provide an optimization objective later."
      ]
    },
    {
      "cell_type": "code",
      "execution_count": 30,
      "metadata": {
        "id": "nAG_57KN4-Vi"
      },
      "outputs": [],
      "source": [
        "model = gp.Model('SupplyNetworkDesign')\n",
        "flow = model.addVars(arcs, obj=cost, name=\"flow\")"
      ]
    },
    {
      "cell_type": "markdown",
      "source": [],
      "metadata": {
        "id": "fb85AXFEYgIu"
      }
    },
    {
      "cell_type": "markdown",
      "metadata": {
        "id": "gnPQK0is4-Vn"
      },
      "source": [
        "First constraints require the total flow along arcs leaving a center to be at most as large as the supply capacity of that center."
      ]
    },
    {
      "cell_type": "code",
      "execution_count": 31,
      "metadata": {
        "id": "3hecBmI24-Vo"
      },
      "outputs": [],
      "source": [
        "# Center capacity limits\n",
        "\n",
        "centers = supply.keys()\n",
        "center_flow = model.addConstrs((gp.quicksum(flow.select(center, '*')) <= supply[center]\n",
        "                                 for center in centers), name=\"center\")"
      ]
    },
    {
      "cell_type": "markdown",
      "metadata": {
        "id": "jmiEgu8W4-Vq"
      },
      "source": [
        "Next constraints require the total flow along arcs entering a landfill to be equal to the demand from that landfill."
      ]
    },
    {
      "cell_type": "code",
      "execution_count": 32,
      "metadata": {
        "id": "69oIgEpB4-Vt"
      },
      "outputs": [],
      "source": [
        "# landfill demand\n",
        "\n",
        "landfills = demand.keys()\n",
        "landfill_flow = model.addConstrs((gp.quicksum(flow.select('*', landfill)) == demand[landfill]\n",
        "                                  for landfill in landfills), name=\"landfill\")"
      ]
    },
    {
      "cell_type": "markdown",
      "metadata": {
        "id": "g01Jp8c24-Vu"
      },
      "source": [
        "Final constraints relate to depots.  The first constraints require that the total amount of waste entering the depot must equal the total amount leaving."
      ]
    },
    {
      "cell_type": "code",
      "execution_count": 33,
      "metadata": {
        "id": "3I9pD1Fo4-Vv"
      },
      "outputs": [],
      "source": [
        "# Depot flow conservation\n",
        "\n",
        "depots = through.keys()\n",
        "depot_flow = model.addConstrs((gp.quicksum(flow.select(depot, '*')) == gp.quicksum(flow.select('*', depot))\n",
        "                               for depot in depots), name=\"depot\")"
      ]
    },
    {
      "cell_type": "markdown",
      "metadata": {
        "id": "l3kTwWOc4-Vw"
      },
      "source": [
        "The second set limits the waste passing through the depot to be at most equal the throughput of that depot."
      ]
    },
    {
      "cell_type": "code",
      "execution_count": 34,
      "metadata": {
        "id": "6ekHOrf34-Vx"
      },
      "outputs": [],
      "source": [
        "# Depot throughput\n",
        "\n",
        "depot_capacity = model.addConstrs((gp.quicksum(flow.select('*', depot)) <= through[depot]\n",
        "                                   for depot in depots), name=\"depot_capacity\")"
      ]
    },
    {
      "cell_type": "markdown",
      "metadata": {
        "id": "YzwiP6954-Vx"
      },
      "source": [
        "Optimize the model"
      ]
    },
    {
      "cell_type": "code",
      "execution_count": 35,
      "metadata": {
        "id": "cBhd3lk74-Vy",
        "outputId": "106fd418-b715-462a-ef5d-e9f6128bbc05",
        "colab": {
          "base_uri": "https://localhost:8080/"
        }
      },
      "outputs": [
        {
          "output_type": "stream",
          "name": "stdout",
          "text": [
            "Gurobi Optimizer version 12.0.1 build v12.0.1rc0 (linux64 - \"Ubuntu 22.04.4 LTS\")\n",
            "\n",
            "CPU model: Intel(R) Xeon(R) CPU @ 2.20GHz, instruction set [SSE2|AVX|AVX2]\n",
            "Thread count: 1 physical cores, 2 logical processors, using up to 2 threads\n",
            "\n",
            "Optimize a model with 18 rows, 40 columns and 87 nonzeros\n",
            "Model fingerprint: 0x1a05b1ff\n",
            "Coefficient statistics:\n",
            "  Matrix range     [1e+00, 1e+00]\n",
            "  Objective range  [4e-01, 2e+00]\n",
            "  Bounds range     [0e+00, 0e+00]\n",
            "  RHS range        [2e+04, 4e+05]\n",
            "Presolve removed 1 rows and 0 columns\n",
            "Presolve time: 0.01s\n",
            "Presolved: 17 rows, 40 columns, 86 nonzeros\n",
            "\n",
            "Iteration    Objective       Primal Inf.    Dual Inf.      Time\n",
            "       0    6.4100000e+05   8.250000e+04   0.000000e+00      0s\n",
            "\n",
            "Solved in 10 iterations and 0.02 seconds (0.00 work units)\n",
            "Infeasible model\n"
          ]
        }
      ],
      "source": [
        "model.optimize()"
      ]
    },
    {
      "cell_type": "markdown",
      "metadata": {
        "id": "sFEsLxsg4-Vz"
      },
      "source": [
        "---\n",
        "## Analysis\n",
        "\n",
        "Waste demand from all of our landfillss can be satisfied for a total cost of $\\$541,000$. The optimal plan is as follows."
      ]
    },
    {
      "cell_type": "code",
      "execution_count": 36,
      "metadata": {
        "id": "ahGJz-p74-V0",
        "outputId": "430ff9b5-8315-4dde-b3e1-06b49b02cea4",
        "colab": {
          "base_uri": "https://localhost:8080/",
          "height": 323
        }
      },
      "outputs": [
        {
          "output_type": "error",
          "ename": "AttributeError",
          "evalue": "Unable to retrieve attribute 'x'",
          "traceback": [
            "\u001b[0;31m---------------------------------------------------------------------------\u001b[0m",
            "\u001b[0;31mAttributeError\u001b[0m                            Traceback (most recent call last)",
            "\u001b[0;32m<ipython-input-36-e0b6517a3c1c>\u001b[0m in \u001b[0;36m<cell line: 0>\u001b[0;34m()\u001b[0m\n\u001b[1;32m      1\u001b[0m \u001b[0mproduct_flow\u001b[0m \u001b[0;34m=\u001b[0m \u001b[0mpd\u001b[0m\u001b[0;34m.\u001b[0m\u001b[0mDataFrame\u001b[0m\u001b[0;34m(\u001b[0m\u001b[0mcolumns\u001b[0m\u001b[0;34m=\u001b[0m\u001b[0;34m[\u001b[0m\u001b[0;34m\"From\"\u001b[0m\u001b[0;34m,\u001b[0m \u001b[0;34m\"To\"\u001b[0m\u001b[0;34m,\u001b[0m \u001b[0;34m\"Flow\"\u001b[0m\u001b[0;34m]\u001b[0m\u001b[0;34m)\u001b[0m\u001b[0;34m\u001b[0m\u001b[0;34m\u001b[0m\u001b[0m\n\u001b[1;32m      2\u001b[0m \u001b[0;32mfor\u001b[0m \u001b[0marc\u001b[0m \u001b[0;32min\u001b[0m \u001b[0marcs\u001b[0m\u001b[0;34m:\u001b[0m\u001b[0;34m\u001b[0m\u001b[0;34m\u001b[0m\u001b[0m\n\u001b[0;32m----> 3\u001b[0;31m     \u001b[0;32mif\u001b[0m \u001b[0mflow\u001b[0m\u001b[0;34m[\u001b[0m\u001b[0marc\u001b[0m\u001b[0;34m]\u001b[0m\u001b[0;34m.\u001b[0m\u001b[0mx\u001b[0m \u001b[0;34m>\u001b[0m \u001b[0;36m1e-6\u001b[0m\u001b[0;34m:\u001b[0m\u001b[0;34m\u001b[0m\u001b[0;34m\u001b[0m\u001b[0m\n\u001b[0m\u001b[1;32m      4\u001b[0m         \u001b[0mproduct_flow\u001b[0m \u001b[0;34m=\u001b[0m \u001b[0mproduct_flow\u001b[0m\u001b[0;34m.\u001b[0m\u001b[0m_append\u001b[0m\u001b[0;34m(\u001b[0m\u001b[0;34m{\u001b[0m\u001b[0;34m\"From\"\u001b[0m\u001b[0;34m:\u001b[0m \u001b[0marc\u001b[0m\u001b[0;34m[\u001b[0m\u001b[0;36m0\u001b[0m\u001b[0;34m]\u001b[0m\u001b[0;34m,\u001b[0m \u001b[0;34m\"To\"\u001b[0m\u001b[0;34m:\u001b[0m \u001b[0marc\u001b[0m\u001b[0;34m[\u001b[0m\u001b[0;36m1\u001b[0m\u001b[0;34m]\u001b[0m\u001b[0;34m,\u001b[0m \u001b[0;34m\"Flow\"\u001b[0m\u001b[0;34m:\u001b[0m \u001b[0mflow\u001b[0m\u001b[0;34m[\u001b[0m\u001b[0marc\u001b[0m\u001b[0;34m]\u001b[0m\u001b[0;34m.\u001b[0m\u001b[0mx\u001b[0m\u001b[0;34m}\u001b[0m\u001b[0;34m,\u001b[0m \u001b[0mignore_index\u001b[0m\u001b[0;34m=\u001b[0m\u001b[0;32mTrue\u001b[0m\u001b[0;34m)\u001b[0m\u001b[0;34m\u001b[0m\u001b[0;34m\u001b[0m\u001b[0m\n\u001b[1;32m      5\u001b[0m \u001b[0mproduct_flow\u001b[0m\u001b[0;34m.\u001b[0m\u001b[0mindex\u001b[0m\u001b[0;34m=\u001b[0m\u001b[0;34m[\u001b[0m\u001b[0;34m''\u001b[0m\u001b[0;34m]\u001b[0m \u001b[0;34m*\u001b[0m \u001b[0mlen\u001b[0m\u001b[0;34m(\u001b[0m\u001b[0mproduct_flow\u001b[0m\u001b[0;34m)\u001b[0m\u001b[0;34m\u001b[0m\u001b[0;34m\u001b[0m\u001b[0m\n",
            "\u001b[0;32msrc/gurobipy/var.pxi\u001b[0m in \u001b[0;36mgurobipy._core.Var.__getattr__\u001b[0;34m()\u001b[0m\n",
            "\u001b[0;32msrc/gurobipy/var.pxi\u001b[0m in \u001b[0;36mgurobipy._core.Var.getAttr\u001b[0;34m()\u001b[0m\n",
            "\u001b[0;32msrc/gurobipy/_attrutil.pyx\u001b[0m in \u001b[0;36mgurobipy._attrutil._getattr\u001b[0;34m()\u001b[0m\n",
            "\u001b[0;31mAttributeError\u001b[0m: Unable to retrieve attribute 'x'"
          ]
        }
      ],
      "source": [
        "product_flow = pd.DataFrame(columns=[\"From\", \"To\", \"Flow\"])\n",
        "for arc in arcs:\n",
        "    if flow[arc].x > 1e-6:\n",
        "        product_flow = product_flow._append({\"From\": arc[0], \"To\": arc[1], \"Flow\": flow[arc].x}, ignore_index=True)\n",
        "product_flow.index=[''] * len(product_flow)\n",
        "product_flow"
      ]
    }
  ],
  "metadata": {
    "kernelspec": {
      "display_name": "Python 3",
      "language": "python",
      "name": "python3"
    },
    "language_info": {
      "codemirror_mode": {
        "name": "ipython",
        "version": 3
      },
      "file_extension": ".py",
      "mimetype": "text/x-python",
      "name": "python",
      "nbconvert_exporter": "python",
      "pygments_lexer": "ipython3",
      "version": "3.7.1"
    },
    "colab": {
      "provenance": [],
      "include_colab_link": true
    }
  },
  "nbformat": 4,
  "nbformat_minor": 0
}